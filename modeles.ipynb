{
 "cells": [
  {
   "cell_type": "markdown",
   "metadata": {
    "collapsed": false
   },
   "source": [
    "# Les differents types de système de recommandation:"
   ]
  },
  {
   "cell_type": "markdown",
   "metadata": {},
   "source": [
    "# Introduction:"
   ]
  },
  {
   "cell_type": "raw",
   "metadata": {
    "collapsed": false
   },
   "source": [
    "\"\"\"\n",
    "Il existe deux type de recommanders:\n",
    "    -Le content Based: on va pas l'utiliser vu qu'on n'a pas les caractéristiques de chaque item et de chaque utilisateur\n",
    "    -Le Collaboratif Filtering: qui se base sur la note attribué par l'utilisateur sur l'item. \n",
    "Il existe deux type de recommanders CF:\n",
    "    -Memory Based:\n",
    "    -Model Based:\n",
    "Pour le modèle Memory Based, on a utilisé le modèle user based et item based pour les métriques \"cosine similarity\" et \"cityblock\"\n",
    "Pour le modèle Mode Based, on a utilisé les svds et les gradient stochastique descendant pour l'améliorer. \n",
    "\"\"\"\"\"\n"
   ]
  },
  {
   "cell_type": "markdown",
   "metadata": {},
   "source": [
    "# Nettoyage des données:"
   ]
  },
  {
   "cell_type": "code",
   "execution_count": 2,
   "metadata": {
    "collapsed": true
   },
   "outputs": [],
   "source": [
    "import pandas as pd \n",
    "import numpy as np\n",
    "import random\n",
    "random.seed(9001)\n",
    "#pour avoir toujours les memes erreurs à chaque fois qu'on re exécute le projet."
   ]
  },
  {
   "cell_type": "raw",
   "metadata": {
    "collapsed": false
   },
   "source": [
    "\"\"\"\n",
    "Python n'a pas réussi à créer des matrices avec 7636 lignes et 1264 colonnes (pour construire la matrice de user-item)\n",
    "C'est pour cela on a voulu expliqué et résoulut le problème dans un cas de jeu de données plus petit dis on de l'ordre 100.000 au lieu de 10.000.000\n",
    "A la fin on a rèssit à résoudre le problème avec tout le jeu de donnés.\n",
    "On a apperçu que la base de données présente les notes utilisateur par utilisateur. Donc c'est on prend aléatoirement 100.000 observation\n",
    "aléatoirement de la base, on peut tomber sur le meme problème vu qu'on peut ne pas réduire vraiment le nombre des utilisateurs et le nombre des items.\n",
    "Pour ça on a décidé de travailler sur les premiers 100.000 lignes.\n",
    "\"\"\"\n",
    "\n",
    "tab = pd.read_csv('ratings.csv',nrows=100001)\n"
   ]
  },
  {
   "cell_type": "code",
   "execution_count": 4,
   "metadata": {
    "collapsed": false
   },
   "outputs": [
    {
     "name": "stdout",
     "output_type": "stream",
     "text": [
      "le nombre des utilisateurs est :730 Et le nombre des items est: 6373\n"
     ]
    }
   ],
   "source": [
    "useri,frequsers=np.unique(tab.User_ID,return_counts=True)#useri les id des users, frequsers les freq de chaque user\n",
    "itemi,freqitems=np.unique(tab.Item_ID,return_counts=True)#itemi les id des item, freqitem les freq de chaque item\n",
    "n_users=len(useri)\n",
    "n_items=len(itemi)\n",
    "print(\"le nombre des utilisateurs est :\"+ str(n_users) + \" Et le nombre des items est: \"+ str(n_items))"
   ]
  },
  {
   "cell_type": "raw",
   "metadata": {},
   "source": [
    "\"\"\"\n",
    "Un des problèmes qu'on a rencontré était le fait que les ids des users et des items n'était pas ordonnée.\n",
    "C'est à dire on peut trouver l'utilisateur 1,2,3,5 et 8 sans trouver les utilisateurs 4 ,6 et 7. \n",
    "Ceci nous a posé un problème dans la création de la matrice user-item parce que on risque d'avoir plusieurs lignes et colonnes vides.\n",
    "Pour ça, on a crée un tableau indice_user et un tableau indice_item qui contiennent les anciens id et les nouvelles id \n",
    "par expl (1,2,5,6)=>(1,2,3,4) puis on a ajouté deux colonnes sur le tableau principale qui contient ces nouveaux IDs.\n",
    "(ps) ce traitement est très couteux, ça nous a pris presque 6 minutes pour seulement 100.000\n",
    "\"\"\""
   ]
  },
  {
   "cell_type": "code",
   "execution_count": 5,
   "metadata": {
    "collapsed": false
   },
   "outputs": [],
   "source": [
    "\n",
    "\n",
    "indice_user = pd.DataFrame()\n",
    "indice_user[\"indice\"]=range(1,len(useri)+1)\n",
    "indice_user[\"useri\"]=useri\n",
    "\n",
    "\n",
    "indice_item = pd.DataFrame()\n",
    "indice_item[\"indice\"]=range(1,len(itemi)+1)\n",
    "indice_item[\"itemi\"]=itemi"
   ]
  },
  {
   "cell_type": "code",
   "execution_count": 6,
   "metadata": {
    "collapsed": false
   },
   "outputs": [],
   "source": [
    "#créer user_ID_new et Item_ID_new\n",
    "x=[]\n",
    "y=[]\n",
    "for i in range(0,len(tab)):\n",
    "    x.append((indice_user.indice[indice_user.useri==tab.User_ID[i]].axes[0]+1)[0])\n",
    "    y.append((indice_item.indice[indice_item.itemi==tab.Item_ID[i]].axes[0]+1)[0])\n"
   ]
  },
  {
   "cell_type": "code",
   "execution_count": 7,
   "metadata": {
    "collapsed": false
   },
   "outputs": [],
   "source": [
    "tab[\"User_ID_new\"]=x\n",
    "tab[\"Item_ID_new\"]=y\n"
   ]
  },
  {
   "cell_type": "raw",
   "metadata": {},
   "source": [
    "\"\"\"\n",
    "Pour faire la validation croisé, on a voulut faire une répartition avec la variable date.\n",
    "Par exemple on va prendre une date et on va dire tous les événements avant cette date vont construire la base d'apprentissage \n",
    "et tous les evenemtns après cette date vont construire la base de teste.\n",
    "Le problème qu'on a rencontré est le fait que la base de données est répartie avec un ordre plus +/- chronlogique.\n",
    "C'est à dire tous les événements d'un utilisateur 4 sont faites avant les événements de l'utilisateur 5 . \n",
    "Donc, si on raisonne avec une date au milieu on va obtenir un train avec des info sur des utilisateurs, et la matrice test avec \n",
    "d'autres utilisateurs surlesquelles on n'a pas d'informations ce qui aboutira à des mauvaises prédictions.\n",
    "Une autre idée était de mettre 80% des premiers observation pour chaque utilisateru dans la base train et le reste dans la base test\n",
    "Avec ça on aura une répartition idéale. mais on n'a pas réussi à faire ça pour la contrainte du temps.\n",
    "Donc on a fait un simple train_test_split\n",
    "\"\"\""
   ]
  },
  {
   "cell_type": "code",
   "execution_count": 8,
   "metadata": {
    "collapsed": true
   },
   "outputs": [],
   "source": [
    "\n",
    "\n",
    "from sklearn import cross_validation as cv\n",
    "train_data, test_data = cv.train_test_split(tab[[\"User_ID_new\",\"Item_ID_new\",\"rating\"]], test_size=0.25,random_state=123)"
   ]
  },
  {
   "cell_type": "raw",
   "metadata": {
    "collapsed": false
   },
   "source": [
    "\"\"\"\n",
    "La régle dit que si on a une grande sparsity (ou bien rareté des données, c'est de ne pas arriver à calculer la \n",
    "similarité entre 2 utilisateurs par expl si chaqu'un a aimé different items que l'autre), les modèles Model Based seront les plus efficace.\n",
    "Calculant alors la sparsity:\n",
    "\"\"\""
   ]
  },
  {
   "cell_type": "code",
   "execution_count": 10,
   "metadata": {
    "collapsed": false
   },
   "outputs": [
    {
     "name": "stdout",
     "output_type": "stream",
     "text": [
      "The sparsity level of our data base is 97.9%\n"
     ]
    }
   ],
   "source": [
    "sparsity=round(1.0-len(tab)/float(n_users*n_items),3)\n",
    "print 'The sparsity level of our data base is ' +  str(sparsity*100) + '%'"
   ]
  },
  {
   "cell_type": "raw",
   "metadata": {
    "collapsed": false
   },
   "source": [
    "\"\"\"\n",
    "La pourcentage de sparsity est bien grande donc, on peut confirmer dés maintenant que les modèles Model Based seront les \n",
    "modèles les plus efficaces.\n",
    "Commen\n",
    "\"\"\""
   ]
  },
  {
   "cell_type": "markdown",
   "metadata": {},
   "source": [
    "# 1.le Memory based Collaboratif Filtering:"
   ]
  },
  {
   "cell_type": "markdown",
   "metadata": {},
   "source": [
    "### 1.1 La mise en place du modèle:"
   ]
  },
  {
   "cell_type": "raw",
   "metadata": {},
   "source": [
    "\"\"\"\n",
    "On va commencer par créer les modèles Memory based.\n",
    "    -Les modèles User-Based : \"Les utilisateurs qui sont similaires à vous, ont aimé aussi ...\"\n",
    "    -Les modèles Item-Based: \"Les utilisateurs qui ont aimé ça, ont aimé aussi ...\"\n",
    "Pour expliquer plus:\n",
    "-le modele User-Based: va prendre un utilisateur, trouve les utilisateur les plus similaires à lui en se basant sur la note, Puis\n",
    "recommande les items aimé par ces utilisateurs(ça prend un user et retourne des items)\n",
    "\n",
    "-Le modele Item-Based:prend un item, cherche les utilisateurs qui ont aimé cet item, trouve les items aimé par ces utilisateurs\n",
    "(ça prend un item et retounes une liste des items)\n",
    "\n",
    "Pour le faire, on utilisé 2 métriques le cosine similaire et cityblock.\n",
    "Pour le faire, on a commencé par créer les matrice user-item train et test. Ce sont les deux matrices qui vont croisé les notes de utilsiateurs et des items.\n",
    "Puis, on a créé nos 4 modèles Memory Based  \n",
    "à la fin, on a créé une fonction pour faire les prédictions selon le modèle\n",
    "\"\"\""
   ]
  },
  {
   "cell_type": "code",
   "execution_count": 12,
   "metadata": {
    "collapsed": false
   },
   "outputs": [],
   "source": [
    "\n",
    "train_data_matrix = np.zeros((n_users, n_items))#matrice nulle de longuer tous les users et tous les items\n",
    "for line in train_data.itertuples():#parcourire la ligne col par col\n",
    "    train_data_matrix[line[1]-1, line[2]-1] = line[3] \n",
    "\n",
    "test_data_matrix = np.zeros((n_users, n_items))\n",
    "for line in test_data.itertuples():\n",
    "    test_data_matrix[line[1]-1, line[2]-1] = line[3]"
   ]
  },
  {
   "cell_type": "code",
   "execution_count": 13,
   "metadata": {
    "collapsed": false
   },
   "outputs": [],
   "source": [
    "#calcule de la cos similarity : (construction du modèle)\n",
    "from sklearn.metrics.pairwise import pairwise_distances\n",
    "user_similarity = pairwise_distances(train_data_matrix, metric='cosine')\n",
    "item_similarity = pairwise_distances(train_data_matrix.T, metric='cosine')\n",
    "user_similarity1 = pairwise_distances(train_data_matrix, metric='cityblock')\n",
    "item_similarity1 = pairwise_distances(train_data_matrix.T, metric='cityblock')\n"
   ]
  },
  {
   "cell_type": "code",
   "execution_count": 14,
   "metadata": {
    "collapsed": true
   },
   "outputs": [],
   "source": [
    "def predict(ratings, similarity, type='user'):#prend\n",
    "    if type == 'user':\n",
    "        mean_user_rating = ratings.mean(axis=1)#mean pour chauqe utilisateur (type = float)\n",
    "        #np.newaxis pour convertir mean_user_rating de array de float en array d'array pour l'utiliser avec ratings\n",
    "        #puis on a normalisé la var ratings (rating - E)\n",
    "        ratings_diff = (ratings - mean_user_rating[:, np.newaxis]) #(type === array comme la var rating)\n",
    "        pred = mean_user_rating[:, np.newaxis] + similarity.dot(ratings_diff) / np.array([np.abs(similarity).sum(axis=1)]).T\n",
    "    elif type == 'item':\n",
    "        pred = ratings.dot(similarity) / np.array([np.abs(similarity).sum(axis=1)]) \n",
    "        \n",
    "    x = np.zeros((n_users, n_items))\n",
    "    for i in range(0,n_items):\n",
    "        a=max(pred[:,i])\n",
    "        b=min(pred[:,i])\n",
    "        c=0\n",
    "        d=5\n",
    "        for j in range(0,n_users):\n",
    "            x[j,i]=(pred[:,i][j]-(a-c))*d/(b-a+c)\n",
    "    \n",
    "    return x"
   ]
  },
  {
   "cell_type": "code",
   "execution_count": 15,
   "metadata": {
    "collapsed": false
   },
   "outputs": [],
   "source": [
    "#la prédiction avec les differents modèles:\n",
    "item_prediction = predict(test_data_matrix, item_similarity, type='item')\n",
    "user_prediction = predict(test_data_matrix, user_similarity, type='user')\n",
    "item_prediction1 = predict(test_data_matrix, item_similarity1, type='item')\n",
    "user_prediction1 = predict(test_data_matrix, user_similarity1, type='user')"
   ]
  },
  {
   "cell_type": "markdown",
   "metadata": {},
   "source": [
    "### 1.2. La comparaison des RMSE:"
   ]
  },
  {
   "cell_type": "code",
   "execution_count": 16,
   "metadata": {
    "collapsed": true
   },
   "outputs": [],
   "source": [
    "#la creation de la fonction qui calcule le RMSE:\n",
    "from sklearn.metrics import mean_squared_error\n",
    "from math import sqrt\n",
    "def rmse(prediction, ground_truth): #Root Mean Squared Error\n",
    "    prediction = prediction[ground_truth.nonzero()].flatten() \n",
    "    #.flatten() fusionne les elts des array en un array\n",
    "    #on attribue a prediction, les résultats des prédictions où on connait le vrais rating cad:\n",
    "    #prediction: tous nos prédictions sur test; ground_truth.nonzero():les vrais résultats qu'on a dans test\n",
    "    #on va mettre dans prediction les valeurs qu'on a prédit pour les elts qu'on adéja.\n",
    "    ground_truth = ground_truth[ground_truth.nonzero()].flatten()#pareil dans ground truth\n",
    "    return sqrt(mean_squared_error(prediction, ground_truth))"
   ]
  },
  {
   "cell_type": "code",
   "execution_count": 17,
   "metadata": {
    "collapsed": false
   },
   "outputs": [
    {
     "name": "stdout",
     "output_type": "stream",
     "text": [
      "User-based CF RMSE: 1.49898656802\n",
      "Item-based CF RMSE: 1.5177273779\n",
      "User-based1 CF RMSE: 1.49841259116\n",
      "Item-based1 CF RMSE: 1.46078749628\n"
     ]
    },
    {
     "data": {
      "text/plain": [
       "\"\\nLe meilleur mod\\xc3\\xa8le est celui qui a le RMSE le plus petit \\nPour notre cas c'\\xc3\\xa9tait Item based pour la m\\xc3\\xa9trique cityblock.\\n\""
      ]
     },
     "execution_count": 17,
     "metadata": {},
     "output_type": "execute_result"
    }
   ],
   "source": [
    "print 'User-based CF RMSE: ' + str(rmse(user_prediction, test_data_matrix))\n",
    "print 'Item-based CF RMSE: ' + str(rmse(item_prediction, test_data_matrix))\n",
    "print 'User-based1 CF RMSE: ' + str(rmse(user_prediction1, test_data_matrix))\n",
    "print 'Item-based1 CF RMSE: ' + str(rmse(item_prediction1, test_data_matrix))\n"
   ]
  },
  {
   "cell_type": "raw",
   "metadata": {},
   "source": [
    "\"\"\"\n",
    "Le meilleur modèle est celui qui a le RMSE le plus petit \n",
    "Pour notre cas c'était Item based pour la métrique cityblock.\n",
    "\"\"\""
   ]
  },
  {
   "cell_type": "markdown",
   "metadata": {},
   "source": [
    "### 1.3 Simple comparaison des résultats prédits:"
   ]
  },
  {
   "cell_type": "raw",
   "metadata": {},
   "source": [
    "\"\"\"\n",
    "Ici, on va comparer avec l'oeil la difference entre les résultats qu'on a prédit et celle qu'on a réellement:\n",
    "Pour le faire, on va utiliser le meilleur modèle qui est user-cityblock\n",
    "\"\"\"\n"
   ]
  },
  {
   "cell_type": "code",
   "execution_count": 18,
   "metadata": {
    "collapsed": false
   },
   "outputs": [
    {
     "data": {
      "text/html": [
       "<div>\n",
       "<table border=\"1\" class=\"dataframe\">\n",
       "  <thead>\n",
       "    <tr style=\"text-align: right;\">\n",
       "      <th></th>\n",
       "      <th>Actual Rating</th>\n",
       "      <th>Predicted Rating</th>\n",
       "    </tr>\n",
       "  </thead>\n",
       "  <tbody>\n",
       "    <tr>\n",
       "      <th>9</th>\n",
       "      <td>4.0</td>\n",
       "      <td>4.613519</td>\n",
       "    </tr>\n",
       "    <tr>\n",
       "      <th>35</th>\n",
       "      <td>5.0</td>\n",
       "      <td>4.741223</td>\n",
       "    </tr>\n",
       "    <tr>\n",
       "      <th>36</th>\n",
       "      <td>5.0</td>\n",
       "      <td>4.609985</td>\n",
       "    </tr>\n",
       "    <tr>\n",
       "      <th>64</th>\n",
       "      <td>4.0</td>\n",
       "      <td>3.645600</td>\n",
       "    </tr>\n",
       "    <tr>\n",
       "      <th>87</th>\n",
       "      <td>4.0</td>\n",
       "      <td>3.529132</td>\n",
       "    </tr>\n",
       "    <tr>\n",
       "      <th>128</th>\n",
       "      <td>2.0</td>\n",
       "      <td>2.876081</td>\n",
       "    </tr>\n",
       "    <tr>\n",
       "      <th>137</th>\n",
       "      <td>5.0</td>\n",
       "      <td>4.932248</td>\n",
       "    </tr>\n",
       "    <tr>\n",
       "      <th>150</th>\n",
       "      <td>3.0</td>\n",
       "      <td>4.789426</td>\n",
       "    </tr>\n",
       "    <tr>\n",
       "      <th>161</th>\n",
       "      <td>5.0</td>\n",
       "      <td>4.788021</td>\n",
       "    </tr>\n",
       "    <tr>\n",
       "      <th>165</th>\n",
       "      <td>5.0</td>\n",
       "      <td>4.730687</td>\n",
       "    </tr>\n",
       "  </tbody>\n",
       "</table>\n",
       "</div>"
      ],
      "text/plain": [
       "     Actual Rating  Predicted Rating\n",
       "9              4.0          4.613519\n",
       "35             5.0          4.741223\n",
       "36             5.0          4.609985\n",
       "64             4.0          3.645600\n",
       "87             4.0          3.529132\n",
       "128            2.0          2.876081\n",
       "137            5.0          4.932248\n",
       "150            3.0          4.789426\n",
       "161            5.0          4.788021\n",
       "165            5.0          4.730687"
      ]
     },
     "execution_count": 18,
     "metadata": {},
     "output_type": "execute_result"
    }
   ],
   "source": [
    "#comparaison des prediction de modele  user avec l'oeil:\n",
    "R = pd.DataFrame(test_data_matrix)\n",
    "R_pred=pd.DataFrame(predict(test_data_matrix, item_similarity1, type='item'))\n",
    "# Compare true ratings of item 17 with predictions\n",
    "ratings = pd.DataFrame(data=R.T.loc[16,R.T.loc[16,:] > 0]).head(n=10)\n",
    "ratings['Prediction'] = R_pred.T.loc[16,R.T.loc[16,:] > 0]\n",
    "ratings.columns = ['Actual Rating', 'Predicted Rating']\n",
    "ratings"
   ]
  },
  {
   "cell_type": "markdown",
   "metadata": {},
   "source": [
    "### 1.4 La généralisation de notre meilleur modèle:"
   ]
  },
  {
   "cell_type": "raw",
   "metadata": {},
   "source": [
    "\"\"\"\n",
    "Dans un vrais problème, ce qu'on veut faire c'est d'avoir des recommandations pour un utilisateur précis.\n",
    "Pour le faire, on a créé la fonction getrecom qui prend en parametres:\n",
    "    -iduser: l'id d'un utilisateur\n",
    "    -n: nombre de résultat à afficher\n",
    "    -ch=={\"all\"|\"discover\"}: par défaut \"all\", on utilise \"discover\" pour avoir seulement des recommandations sur les \n",
    "    items non notés par l'utilisateur.\n",
    "(ps): on a construit le modele à partir de tout le jeu de données.\n",
    "\"\"\""
   ]
  },
  {
   "cell_type": "code",
   "execution_count": 19,
   "metadata": {
    "collapsed": false
   },
   "outputs": [],
   "source": [
    "\n",
    "#creation du modèle finale:\n",
    "data_matrix = np.zeros((n_users, n_items))\n",
    "for line in tab[[\"User_ID_new\",\"Item_ID_new\",\"rating\"]].itertuples():#parcourire la ligne col par col\n",
    "    data_matrix[line[1]-1, line[2]-1] = line[3] \n",
    "R = pd.DataFrame(data_matrix)\n",
    "model_user = pairwise_distances(R, metric='cityblock')#meilleur modèle item-citoyblock .T psk c'est item\n",
    "model_item = pairwise_distances(R.T, metric='cityblock')#meilleur modèle item-citoyblock .T psk c'est item\n",
    "\n",
    "R_pred_us=pd.DataFrame(predict(data_matrix, model_user, 'user'))#la prediction\n",
    "R_pred_it=pd.DataFrame(predict(data_matrix, model_item, 'item'))#la prediction\n"
   ]
  },
  {
   "cell_type": "code",
   "execution_count": 20,
   "metadata": {
    "collapsed": false
   },
   "outputs": [],
   "source": [
    "def getrecom_membased_for_user( iduser,n=10,ch=\"all\"):\n",
    "    estim=R_pred_us.loc[iduser-1,R.loc[iduser-1,:] == 0]\n",
    "    donne=R.loc[iduser-1,R.loc[iduser-1,:] > 0]\n",
    "    if ch==\"discover\":\n",
    "        res=estim\n",
    "    else:\n",
    "        res=estim.append(donne)\n",
    "    res=res.sort_values( ascending=False)[0:n]\n",
    "    return res"
   ]
  },
  {
   "cell_type": "code",
   "execution_count": 21,
   "metadata": {
    "collapsed": true
   },
   "outputs": [],
   "source": [
    "def getrecom_membased_for_item( iditem,n=10,ch=\"all\"):\n",
    "    estim=R_pred_it.T.loc[iditem-1,R.T.loc[iditem-1,:] == 0]\n",
    "    donne=R.T.loc[iditem-1,R.T.loc[iditem-1,:] > 0]\n",
    "    if ch==\"discover\":\n",
    "        res=estim\n",
    "    else:\n",
    "        res=estim.append(donne)\n",
    "    res=res.sort_values( ascending=False)[0:n]\n",
    "    return res"
   ]
  },
  {
   "cell_type": "code",
   "execution_count": 23,
   "metadata": {
    "collapsed": false
   },
   "outputs": [
    {
     "data": {
      "text/plain": [
       "40     5.000000\n",
       "117    4.998489\n",
       "663    4.994203\n",
       "24     4.985279\n",
       "84     4.982837\n",
       "495    4.957466\n",
       "710    4.955156\n",
       "532    4.951005\n",
       "426    4.939143\n",
       "225    4.934024\n",
       "Name: 6372, dtype: float64"
      ]
     },
     "execution_count": 23,
     "metadata": {},
     "output_type": "execute_result"
    }
   ],
   "source": [
    "(getrecom_membased_for_item(6373,10,\"all\"))"
   ]
  },
  {
   "cell_type": "code",
   "execution_count": 24,
   "metadata": {
    "collapsed": false
   },
   "outputs": [
    {
     "data": {
      "text/plain": [
       "2139    4.911902\n",
       "1910    4.910203\n",
       "1591    4.900214\n",
       "2457    4.894726\n",
       "3574    4.888690\n",
       "2522    4.884848\n",
       "2235    4.882589\n",
       "813     4.881029\n",
       "1773    4.879601\n",
       "1112    4.879552\n",
       "Name: 729, dtype: float64"
      ]
     },
     "execution_count": 24,
     "metadata": {},
     "output_type": "execute_result"
    }
   ],
   "source": [
    "(getrecom_membased_for_user(730,10,\"discover\"))#correcte!"
   ]
  },
  {
   "cell_type": "raw",
   "metadata": {
    "collapsed": true
   },
   "source": [
    "\"\"\"\n",
    "Conclusion: \n",
    "-Les modèles Memory based sont  facile à implementer et génére des bonnes résultats.\n",
    "-Ce type de modèle n'est pas scalable (n'est pas vraiment pratique dans un problème d'une grande base de donnée vu qu'il \n",
    "calcule à chaque fois la corrélation entre tous les utilisateur &/| les items) et ne resolut pas le problème de cold start(\n",
    "lorsqu'on commence avec un nouveau utilisateur/item dont on n'a pas assez d'information)\n",
    "Pour répondre au problème de scalability on crée les modele Model Based(partie suivante).\n",
    "Pour répondre au problème de cold start, on utilise la recommandation Content based (on va pas l'utiliser vu qu'on n'a pas ces données )\n",
    "\n",
    "\"\"\""
   ]
  },
  {
   "cell_type": "markdown",
   "metadata": {
    "collapsed": true
   },
   "source": [
    "# 2. Model-based Collaborative Filtering"
   ]
  },
  {
   "cell_type": "raw",
   "metadata": {
    "collapsed": true
   },
   "source": [
    "\"\"\"\n",
    "Dans cette partie du projet, nous appliquons le deuxième sous-type du fitrage collaboratif : \"Model-based\". \n",
    "Il consiste à appliquer la matrice de factorisation (MF) : c'est une méthode d'apprentissage non supervisé de décomposition\n",
    "et de réduction de dimensionnalité pour les variables cachées. \n",
    "\n",
    "Le but de la matrice de factorisation est d'apprendre les préférences cachées des utilisateurs et les attributs cachés des items\n",
    "depuis les ratings connus dans notre jeu de données, pour enfin prédire les ratings inconnus en multipliant les matrices de varibales \n",
    "cachées des utilisateurs et des items. \n",
    "\n",
    "Il existe plusieurs techniques de réduction de dimensionnalité dans l'implémentation des systèmes de recommendations. \n",
    "Dans notre projet, nous avons utilisé :\n",
    "- SVD : singular value decomposition\n",
    "- SGD : Stochastic Gradient Descent\n",
    "- NMF(sklearn) : Non-Negative Matrix Factorization\n",
    "\n",
    "\"\"\""
   ]
  },
  {
   "cell_type": "markdown",
   "metadata": {},
   "source": [
    "## 2.1 Singular value decomposition (SVD)"
   ]
  },
  {
   "cell_type": "markdown",
   "metadata": {},
   "source": [
    "### 2.1.1 La mise en place des SVD:"
   ]
  },
  {
   "cell_type": "raw",
   "metadata": {
    "collapsed": true
   },
   "source": [
    "\"\"\"\n",
    "Cette technique, comme toutes les autres, consiste à réduire la dimensionnalité de la matrice User-Item calculée précedemment.\n",
    "Posons R la matrice User-Item de taille m x n (m : nombre de users, n: nombre d'items) et  k: la dimension de l'espace des caractères cachés.\n",
    "L'équation générale de SVD est données par : \n",
    "R=USV^T\n",
    "\n",
    "- La matrice U des caractères cachés pour les utilisateurs : de taille m*k\n",
    "- La matrice V des caractères cachés pour les items : de taille n*k\n",
    "- La matrice diagonale de taille k x k avec des valeurs réelles non-negatives sur la diagonale\n",
    "\n",
    "On peut faire la prédiction en appliquant la multiplication des 3 matrices\n",
    "\"\"\""
   ]
  },
  {
   "cell_type": "code",
   "execution_count": 25,
   "metadata": {
    "collapsed": true
   },
   "outputs": [],
   "source": [
    "import scipy.sparse as sp\n",
    "from scipy.sparse.linalg import svds\n",
    "\n",
    "#Obtenir les composantes de SVD à partir de la matrice User-Item du train. On choisit une valeur de k=20.\n",
    "u, s, vt = svds(train_data_matrix, k = 20)\n",
    "s_diag_matrix=np.diag(s)"
   ]
  },
  {
   "cell_type": "code",
   "execution_count": 26,
   "metadata": {
    "collapsed": true
   },
   "outputs": [],
   "source": [
    "# Multiplication des 3 matrices avec np.dot pour obtenir la matrice User_Item estimée.\n",
    "X_pred = np.dot(np.dot(u, s_diag_matrix), vt) "
   ]
  },
  {
   "cell_type": "code",
   "execution_count": 27,
   "metadata": {
    "collapsed": false
   },
   "outputs": [],
   "source": [
    "#la normalisation de X_pred vu qu'elle retourne des données qui sont pas bien distribué dans [0,5]\n",
    "import math\n",
    "x = np.zeros((n_users, n_items))\n",
    "for i in range(0,n_items):\n",
    "    a=max(X_pred[:,i])\n",
    "    b=min(X_pred[:,i])\n",
    "    c=0\n",
    "    d=5\n",
    "    for j in range(0,n_users):\n",
    "        x[j,i]=(X_pred[:,i][j]-(a-c))*d/(b-a+c)\n",
    "        if math.isnan(x[j,i]): x[j,i]=0"
   ]
  },
  {
   "cell_type": "code",
   "execution_count": 28,
   "metadata": {
    "collapsed": false
   },
   "outputs": [
    {
     "name": "stdout",
     "output_type": "stream",
     "text": [
      "RMSE: 1.49099012467\n"
     ]
    }
   ],
   "source": [
    "# Calcul de performance avec RMSE entre la matrice estimée et la matrice du test\n",
    "print 'RMSE: ' + str(rmse(x, test_data_matrix))\n",
    "#On a trouvé 1.49 comme RMSE, c'est plus grand que le RMSE des modèles Memory based, mais ça prend énormement moins du temps.\n",
    "#Ce qu'on va dans la partie qui suit c'est d'améliorer notre modèle par le gradient stochastique et l'ALS."
   ]
  },
  {
   "cell_type": "markdown",
   "metadata": {},
   "source": [
    "### 2.1.2. La généralisation du modele:"
   ]
  },
  {
   "cell_type": "code",
   "execution_count": 29,
   "metadata": {
    "collapsed": true
   },
   "outputs": [],
   "source": [
    "#Après avoir implementer et tester notre modele, nous avons implémenté la fonction getrecom_membased() qui permet de recommander des items \n",
    "#à un utilisateur. \n",
    "#créant le modèle sur tout le jeu des données:\n",
    "u, s, vt = svds(data_matrix, k = 20)\n",
    "s_diag_matrix=np.diag(s)\n",
    "X_pred = np.dot(np.dot(u, s_diag_matrix), vt) \n",
    "import math\n",
    "x = np.zeros((n_users, n_items))\n",
    "for i in range(0,n_items):\n",
    "    a=max(X_pred[:,i])\n",
    "    b=min(X_pred[:,i])\n",
    "    c=0\n",
    "    d=5\n",
    "    for j in range(0,n_users):\n",
    "        x[j,i]=(X_pred[:,i][j]-(a-c))*d/(b-a+c)\n",
    "        if math.isnan(x[j,i]): x[j,i]=0\n",
    "        "
   ]
  },
  {
   "cell_type": "code",
   "execution_count": 30,
   "metadata": {
    "collapsed": true
   },
   "outputs": [],
   "source": [
    "x=pd.DataFrame(x)"
   ]
  },
  {
   "cell_type": "code",
   "execution_count": 31,
   "metadata": {
    "collapsed": true
   },
   "outputs": [],
   "source": [
    "\n",
    "def getrecom_modbased_svd( iduser,n=10,ch=\"all\"):\n",
    "    estim=x.loc[iduser-1,R.loc[iduser-1,:] == 0]#x:la matrice qu'on a prédit\n",
    "    donne=R.loc[iduser-1,R.loc[iduser-1,:] > 0]#R: la matrice qui contient les données sur tout le modèle\n",
    "    if ch==\"discover\":\n",
    "        res=estim\n",
    "    else:\n",
    "        res=estim.append(donne)\n",
    "    res=res.sort_values( ascending=False)[0:n]\n",
    "    return res\n"
   ]
  },
  {
   "cell_type": "code",
   "execution_count": 32,
   "metadata": {
    "collapsed": false
   },
   "outputs": [
    {
     "data": {
      "text/plain": [
       "103     5.0\n",
       "2131    5.0\n",
       "2183    5.0\n",
       "2187    5.0\n",
       "2401    5.0\n",
       "2457    5.0\n",
       "2633    5.0\n",
       "3956    5.0\n",
       "2814    5.0\n",
       "2863    5.0\n",
       "Name: 79, dtype: float64"
      ]
     },
     "execution_count": 32,
     "metadata": {},
     "output_type": "execute_result"
    }
   ],
   "source": [
    "#recommander l'utilisateur 18 en prenons en compte tous les items y compris ceux qu'il a déjà noté. Afficher les 10 premiers résultats\n",
    "getrecom_modbased_svd(80,10,\"all\")"
   ]
  },
  {
   "cell_type": "code",
   "execution_count": 33,
   "metadata": {
    "collapsed": false
   },
   "outputs": [
    {
     "data": {
      "text/plain": [
       "4527    5.000000\n",
       "2626    5.000000\n",
       "2573    5.000000\n",
       "2991    5.000000\n",
       "1523    5.000000\n",
       "2344    4.972864\n",
       "3070    4.948688\n",
       "2701    4.947056\n",
       "2436    4.941400\n",
       "4148    4.937904\n",
       "Name: 17, dtype: float64"
      ]
     },
     "execution_count": 33,
     "metadata": {},
     "output_type": "execute_result"
    }
   ],
   "source": [
    "#recommander l'utilisateur 18 en prenons en compte que les items qu'il n'a pas noté. Afficher les 10 premiers résultats\n",
    "getrecom_modbased_svd(18,10,\"discover\")"
   ]
  },
  {
   "cell_type": "markdown",
   "metadata": {},
   "source": [
    "## 2.2 Stochastic Gradient Descent with Weighted Lambda Regularisation (SGD-WR)"
   ]
  },
  {
   "cell_type": "markdown",
   "metadata": {},
   "source": [
    "### 2.2.1. La mise en place du modèle:"
   ]
  },
  {
   "cell_type": "raw",
   "metadata": {
    "collapsed": false
   },
   "source": [
    "\"\"\" ********** Algorithme SGD (Stochastic Gradient Descent) ************\n",
    "\n",
    "Quand on utilise le filtrage collboratif pour SGD,on veut estimer 2 matrices P et Q: \n",
    "- La matrice P des caractères cachés pour les utilisateurs : de taille m*k (m: nombre d'utilisateurs, k: dimension de l'espace des caractères cachés)\n",
    "- La matrice Q des caractères cachés pour les items : de taille n*k (m: nombre d'items, k: dimension de l'espace des caractères cachés)\n",
    "\n",
    "Après l'estimation de P et Q, on peut alors prédire les ratings inconnus en multipliant les matrices P et la transposée de Q.\n",
    "\n",
    "\"\"\""
   ]
  },
  {
   "cell_type": "code",
   "execution_count": 35,
   "metadata": {
    "collapsed": true
   },
   "outputs": [],
   "source": [
    "#Les matrices I et I2 serviront de matrices de sélecteur pour prendre les éléments appropriés après la création du Train et du Test\n",
    "#selecteur de var est égal à 1 si la valeur dans la matrice est != 0\n",
    "\n",
    "# matrice d'indices pour le train\n",
    "I = train_data_matrix.copy()\n",
    "I[I > 0] = 1\n",
    "I[I == 0] = 0\n",
    "\n",
    "# matrice d'indices pour le test\n",
    "I2 = test_data_matrix.copy()\n",
    "I2[I2 > 0] = 1\n",
    "I2[I2 == 0] = 0"
   ]
  },
  {
   "cell_type": "code",
   "execution_count": 36,
   "metadata": {
    "collapsed": true
   },
   "outputs": [],
   "source": [
    "# La fonction prediction permet de prédire les ratings inconnus en multipliant les matrices P et la transposée de Q\n",
    "def prediction(P,Q):\n",
    "    return np.dot(P.T,Q)"
   ]
  },
  {
   "cell_type": "raw",
   "metadata": {},
   "source": [
    "\"\"\"\n",
    "Pour mettre à jour P et Q, on peut utiliser le SGD où on itère chaque observation dans le train pour mettre à jour P et Q au fur et à mesure: \n",
    "Q_{i+1} = Q_i + (gamma) (e{ui}*P_u - (lambda)* Q_i)\n",
    "P_{i+1} = P_i + (gamma) (e{ui}*Q_u - (lambda)* P_i)\n",
    "\n",
    "On note: \n",
    "- (gamma) la vitesse de l'apprentissage\n",
    "- (lambda) le Terme de régularisation\n",
    "- e :l'erreur qui est la différence entre le rating réel et le rating prédit.\n",
    "\"\"\""
   ]
  },
  {
   "cell_type": "code",
   "execution_count": 37,
   "metadata": {
    "collapsed": true
   },
   "outputs": [],
   "source": [
    "\n",
    "# ****** Initialisation ******* \n",
    "\n",
    "lmbda = 0.1 # Terme de régularisation\n",
    "k = 20 # dimension de l'espace des caractères cachés\n",
    "m, n = train_data_matrix.shape  # nombre d'utilisateurs et d'items\n",
    "steps = 150  # Nombre d'itération \n",
    "gamma=0.001  # vitesse d'apprentissage\n",
    "\n",
    "P = 3 * np.random.rand(k,m) # Matrice des caractères cachés pour les utilisateurs\n",
    "Q = 3 * np.random.rand(k,n) # Matrice des caractères cachés pour les items\n",
    "\n",
    "#les matrices P et Q sont initialisées avec des valeurs aléatoires au début, mais leur contenu change à chaque itération en se \n",
    "#basant sur le train"
   ]
  },
  {
   "cell_type": "code",
   "execution_count": 43,
   "metadata": {
    "collapsed": true
   },
   "outputs": [],
   "source": [
    "\"\"\" Il existe plusieurs métriques d'évaluation, mais la plus populaire des métriques utilisée pour évaluer l'exactitude des ratings prédits\n",
    "est l'erreur quadratique moyenne (RMSE) qu'on a utilisé dans notre projet :\n",
    "\n",
    "RMSE =RacineCarrée{(1/N) * sum (r_i -estimé{r_i})^2}\n",
    "\"\"\"\n",
    "\n",
    "def rmse2(I,R,Q,P):\n",
    "    return np.sqrt(np.sum((I * (R - prediction(P,Q)))**2)/len(R[R > 0]))\n",
    "\n",
    "#R = train_data_matrix\n",
    "#prediction(P,Q): estimateur du train_data_matrix avec la méthode de factorisation\n",
    "#I pour prendre seulement la partie significative de la matrice (!=0)"
   ]
  },
  {
   "cell_type": "code",
   "execution_count": 44,
   "metadata": {
    "collapsed": true
   },
   "outputs": [],
   "source": [
    "#On ne considère que les valeurs !=0 \n",
    "users,items = train_data_matrix.nonzero()  "
   ]
  },
  {
   "cell_type": "code",
   "execution_count": 45,
   "metadata": {
    "collapsed": false
   },
   "outputs": [],
   "source": [
    "#implémentation de the SGD-WR: (ps) cet algo prend du temps ça depend de nombre steps choisi.\n",
    "train_errors = [] #stocker les erreurs du train obtenus par RMSE à chaque itération (step) \n",
    "test_errors = [] #stocker les erreurs du test obtenus par RMSE à chaque itération (step) \n",
    "     \n",
    "for step in xrange(steps):\n",
    "    for u, i in zip(users,items): #zip() retourne les tuples (user,item)\n",
    "        e = train_data_matrix[u, i] - prediction(P[:,u],Q[:,i])  # calculer l'erreur e pour le gradient\n",
    "        P[:,u] += gamma * ( e * Q[:,i] - lmbda * P[:,u]) # mise à jour de la matrice P\n",
    "        Q[:,i] += gamma * ( e * P[:,u] - lmbda * Q[:,i])  # mise à jour de la matrice Q\n",
    "        \n",
    "    train_rmse = rmse2(I,train_data_matrix,Q,P) # Calcul de l'RMSE à partir du train\n",
    "    test_rmse = rmse2(I2,test_data_matrix,Q,P) # Calcul de l'RMSE à partir du test\n",
    "    train_errors.append(train_rmse) #à chaque itération ajouter l'erreur à la liste\n",
    "    test_errors.append(test_rmse) #à chaque itération ajouter l'erreur à la liste\n",
    "\n"
   ]
  },
  {
   "cell_type": "code",
   "execution_count": 46,
   "metadata": {
    "collapsed": false
   },
   "outputs": [
    {
     "name": "stdout",
     "output_type": "stream",
     "text": [
      "RMSE : 1.18244470872\n"
     ]
    }
   ],
   "source": [
    "print 'RMSE : ' + str(np.mean(test_errors)) #RMSE = 1.18 ce qui est super! en le comparant avec les autre RMSE (1.5)"
   ]
  },
  {
   "cell_type": "code",
   "execution_count": 47,
   "metadata": {
    "collapsed": false
   },
   "outputs": [
    {
     "data": {
      "image/png": "[encoded data removed]",
      "text/plain": [
       "<matplotlib.figure.Figure at 0x1c4d60b8>"
      ]
     },
     "metadata": {},
     "output_type": "display_data"
    }
   ],
   "source": [
    "# Maitenant, après avoir obtenus toutes les valeurs de l'erreur à chaque étape,on peut tracer la courbe d'apprentissage.\n",
    "# ==> On Vérifie la performance en traçant les erreurs du train et du test\n",
    "\n",
    "import matplotlib.pyplot as plt\n",
    "%matplotlib inline\n",
    "\n",
    "plt.plot(range(steps), train_errors, marker='o', label='Training Data'); \n",
    "plt.plot(range(steps), test_errors, marker='v', label='Test Data');\n",
    "plt.title('Courbe d apprentissage SGD')\n",
    "plt.xlabel('Nombre d etapes');\n",
    "plt.ylabel('RMSE');\n",
    "plt.legend()\n",
    "plt.grid()\n",
    "plt.show()"
   ]
  },
  {
   "cell_type": "code",
   "execution_count": null,
   "metadata": {
    "collapsed": true
   },
   "outputs": [],
   "source": [
    "\"\"\"\n",
    "Le modèle semble fonctionner bien avec,relativement, une basse valeur de RMSE après convergence.\n",
    "La performance du modèle peut dépendre des paramètres (gamma), (lambda) et k qu'on a varié à plusieurs reprises afin d'obtenir \n",
    "le meilleur RMSE.\n",
    "\n",
    "Après cette étape, on peut comparer le rating réel avec le rating estimé; Pour ce faire, on utilise la matrice User-item qu'on a \n",
    "déjà calculée et utilisé la fonction prediction(P,Q) implémentée précédemment. \n",
    "\n",
    "\"\"\""
   ]
  },
  {
   "cell_type": "markdown",
   "metadata": {},
   "source": [
    "### 2.2.2 La généralisation de ce modèle:"
   ]
  },
  {
   "cell_type": "code",
   "execution_count": 57,
   "metadata": {
    "collapsed": true
   },
   "outputs": [],
   "source": [
    "import math\n",
    "random.seed(123)\n",
    "P = 3 * np.random.rand(k,m) \n",
    "Q = 3 * np.random.rand(k,n)\n",
    "train_errors = [] \n",
    "test_errors = []\n",
    "for step in xrange(steps):\n",
    "    for u, i in zip(users,items): #zip() retourne les tuples (user,item)\n",
    "        e = data_matrix[u, i] - prediction(P[:,u],Q[:,i])  # calculer l'erreur e pour le gradient\n",
    "        P[:,u] += gamma * ( e * Q[:,i] - lmbda * P[:,u]) # mise à jour de la matrice P\n",
    "        Q[:,i] += gamma * ( e * P[:,u] - lmbda * Q[:,i]) \n",
    "\n",
    "\n",
    "\n",
    "\n"
   ]
  },
  {
   "cell_type": "code",
   "execution_count": 61,
   "metadata": {
    "collapsed": false
   },
   "outputs": [],
   "source": [
    "R_pred=prediction(P,Q)\n",
    "x = np.zeros((n_users, n_items))\n",
    "for i in range(0,n_items):\n",
    "    a=max(R_pred[:,i])\n",
    "    b=min(R_pred[:,i])\n",
    "    c=0\n",
    "    d=5\n",
    "    for j in range(0,n_users):\n",
    "        x[j,i]=(R_pred[:,i][j]-(a-c))*d/(b-a+c)\n",
    "        if math.isnan(x[j,i]): x[j,i]=0\n",
    "            \n"
   ]
  },
  {
   "cell_type": "code",
   "execution_count": 64,
   "metadata": {
    "collapsed": true
   },
   "outputs": [],
   "source": [
    "#Recommander des items pour un utilisateur donné:\n",
    "x=pd.DataFrame(x)\n",
    "def getrecom_modbased_sgd( iduser,n=10,ch=\"all\" ):\n",
    "    estim=x.loc[iduser-1,R.loc[iduser-1,:] == 0]\n",
    "    donne=R.loc[iduser-1,R.loc[iduser-1,:] > 0]\n",
    "    if ch==\"discover\":\n",
    "        res=estim\n",
    "    else:\n",
    "        res=estim.append(donne)\n",
    "    res=res.sort_values( ascending=False)[0:n]\n",
    "    return res"
   ]
  },
  {
   "cell_type": "code",
   "execution_count": 65,
   "metadata": {
    "collapsed": false
   },
   "outputs": [
    {
     "data": {
      "text/plain": [
       "855     5.0\n",
       "202     5.0\n",
       "942     5.0\n",
       "225     5.0\n",
       "1029    5.0\n",
       "866     5.0\n",
       "1042    5.0\n",
       "204     5.0\n",
       "1053    5.0\n",
       "255     5.0\n",
       "Name: 17, dtype: float64"
      ]
     },
     "execution_count": 65,
     "metadata": {},
     "output_type": "execute_result"
    }
   ],
   "source": [
    "#recommander l'utilisateur 18 en prenons en compte tous les items y compris ceux qu'il a déjà noté. Afficher les 10 premiers résultats\n",
    "getrecom_modbased_sgd(18,10,\"all\")"
   ]
  },
  {
   "cell_type": "code",
   "execution_count": 66,
   "metadata": {
    "collapsed": false
   },
   "outputs": [
    {
     "data": {
      "text/plain": [
       "5902    4.649808\n",
       "3246    4.625329\n",
       "572     4.615001\n",
       "4167    4.592095\n",
       "2219    4.590571\n",
       "5562    4.588044\n",
       "4481    4.586026\n",
       "3240    4.578914\n",
       "5164    4.578659\n",
       "2440    4.574947\n",
       "Name: 17, dtype: float64"
      ]
     },
     "execution_count": 66,
     "metadata": {},
     "output_type": "execute_result"
    }
   ],
   "source": [
    "#recommander l'utilisateur 18 en prenons en compte que les items qu'il n'a pas noté. Afficher les 10 premiers résultats\n",
    "getrecom_modbased_sgd(18,10,\"discover\")"
   ]
  },
  {
   "cell_type": "markdown",
   "metadata": {},
   "source": [
    "##  2.3. Non-Negative Matrix Factorization (NMF)"
   ]
  },
  {
   "cell_type": "code",
   "execution_count": null,
   "metadata": {
    "collapsed": true
   },
   "outputs": [],
   "source": [
    "\"\"\" \n",
    "Nous restons ici dans le deuxième sous-type du fitrage collaboratif : \"Model-based\"en utilisant la matrice de factorisation.\n",
    "Mais cette fois-ci nous utilisons NMF (Non-Negative Matrix Factorization) de sklearn pour l'appliquer\n",
    "\n",
    "\"\"\""
   ]
  },
  {
   "cell_type": "code",
   "execution_count": 76,
   "metadata": {
    "collapsed": false
   },
   "outputs": [
    {
     "data": {
      "text/plain": [
       "NMF(alpha=0.0, beta=1, eta=0.1, init='random', l1_ratio=0.0, max_iter=200,\n",
       "  n_components=5, nls_max_iter=2000, random_state=0, shuffle=False,\n",
       "  solver='cd', sparseness=None, tol=0.0001, verbose=0)"
      ]
     },
     "execution_count": 76,
     "metadata": {},
     "output_type": "execute_result"
    }
   ],
   "source": [
    "#Utilisation de la fonction NMF de sklearn. Ajustement du modèle avec le Train\n",
    "from sklearn.decomposition import NMF\n",
    "nmf_model = NMF(n_components=5, init='random', random_state=0)\n",
    "nmf_model.fit(train_data_matrix)"
   ]
  },
  {
   "cell_type": "code",
   "execution_count": 96,
   "metadata": {
    "collapsed": false
   },
   "outputs": [],
   "source": [
    "#Obtention des matrices P et Q(Transposée) à partir du Test \n",
    "P = nmf_model.transform(test_data_matrix);\n",
    "Q_T = nmf_model.components_;\n",
    "\n",
    "#Calcul de la matrice user_item estimée en multipliant les matrice P et Q(Transposée)\n",
    "nR = np.dot(P, Q_T)\n"
   ]
  },
  {
   "cell_type": "code",
   "execution_count": 79,
   "metadata": {
    "collapsed": true
   },
   "outputs": [],
   "source": [
    "x = np.zeros((n_users, n_items))\n",
    "for i in range(0,n_items):\n",
    "    a=max(nR[:,i])\n",
    "    b=min(nR[:,i])\n",
    "    c=0\n",
    "    d=5\n",
    "    for j in range(0,n_users):\n",
    "        x[j,i]=(nR[:,i][j]-(a-c))*d/(b-a+c)\n",
    "        if math.isnan(x[j,i]): x[j,i]=0"
   ]
  },
  {
   "cell_type": "code",
   "execution_count": 80,
   "metadata": {
    "collapsed": false
   },
   "outputs": [
    {
     "data": {
      "text/plain": [
       "1.7395234803101045"
      ]
     },
     "execution_count": 80,
     "metadata": {},
     "output_type": "execute_result"
    }
   ],
   "source": [
    "rmse(x, test_data_matrix)"
   ]
  },
  {
   "cell_type": "markdown",
   "metadata": {},
   "source": [
    "## 2.4 Alternating Least Squares"
   ]
  },
  {
   "cell_type": "code",
   "execution_count": 125,
   "metadata": {
    "collapsed": false
   },
   "outputs": [],
   "source": [
    "# Index matrix for training data\n",
    "I = train_data_matrix.copy()\n",
    "I[I > 0] = 1\n",
    "I[I == 0] = 0\n",
    "\n",
    "# Index matrix for test data\n",
    "I2 = test_data_matrix.copy()\n",
    "I2[I2 > 0] = 1\n",
    "I2[I2 == 0] = 0"
   ]
  },
  {
   "cell_type": "code",
   "execution_count": 132,
   "metadata": {
    "collapsed": true
   },
   "outputs": [],
   "source": [
    "#ps: on n'a pas commenté car c'est presque le mm principe que le modele SGD!\n",
    "lmbda = 0.1 \n",
    "k = 20 \n",
    "n_epochs = 2 # Nombre d'étapes\n",
    "m, n = train_data_matrix.shape # Number of users and items\n",
    "P = 3 * np.random.rand(k,m) # Latent user feature matrix\n",
    "Q = 3 * np.random.rand(k,n) # Latent item feature matrix\n",
    "Q[0,:] = train_data_matrix[train_data_matrix != 0].mean(axis=0) # Avg. rating for each movie\n",
    "E = np.eye(k) # (k x k)-dimensional idendity matrix"
   ]
  },
  {
   "cell_type": "code",
   "execution_count": 133,
   "metadata": {
    "collapsed": false
   },
   "outputs": [
    {
     "data": {
      "text/plain": [
       "(730L, 6373L)"
      ]
     },
     "execution_count": 133,
     "metadata": {},
     "output_type": "execute_result"
    }
   ],
   "source": [
    "data_matrix.shape"
   ]
  },
  {
   "cell_type": "code",
   "execution_count": 134,
   "metadata": {
    "collapsed": false
   },
   "outputs": [
    {
     "name": "stdout",
     "output_type": "stream",
     "text": [
      "[Epoch 1/2] train error: 1.064051, test error: 1.305094\n",
      "[Epoch 2/2] train error: 0.779620, test error: 1.133827\n",
      "Algorithm converged\n"
     ]
    }
   ],
   "source": [
    "train_errors = []\n",
    "test_errors = []\n",
    "\n",
    "# Repeat until convergence\n",
    "for epoch in range(n_epochs):\n",
    "    # Fix Q and estimate P\n",
    "    for i, Ii in enumerate(I):\n",
    "        nui = np.count_nonzero(Ii) # Number of items user i has rated\n",
    "        if (nui == 0): nui = 1 # Be aware of zero counts!\n",
    "    \n",
    "        # Least squares solution\n",
    "        Ai = np.dot(Q, np.dot(np.diag(Ii), Q.T)) + lmbda * nui * E\n",
    "        Vi = np.dot(Q, np.dot(np.diag(Ii), train_data_matrix[i].T))\n",
    "        P[:,i] = np.linalg.solve(Ai,Vi)\n",
    "        \n",
    "    # Fix P and estimate Q\n",
    "    for j, Ij in enumerate(I.T):\n",
    "        nmj = np.count_nonzero(Ij) # Number of users that rated item j\n",
    "        if (nmj == 0): nmj = 1 # Be aware of zero counts!\n",
    "        \n",
    "        # Least squares solution\n",
    "        Aj = np.dot(P, np.dot(np.diag(Ij), P.T)) + lmbda * nmj * E\n",
    "        Vj = np.dot(P, np.dot(np.diag(Ij), train_data_matrix[:,j]))\n",
    "        Q[:,j] = np.linalg.solve(Aj,Vj)\n",
    "    \n",
    "    train_rmse = rmse2(I,train_data_matrix,Q,P)\n",
    "    test_rmse = rmse2(I2,test_data_matrix,Q,P)\n",
    "    train_errors.append(train_rmse)\n",
    "    test_errors.append(test_rmse)\n",
    "    \n",
    "    print \"[Epoch %d/%d] train error: %f, test error: %f\" \\\n",
    "    %(epoch+1, n_epochs, train_rmse, test_rmse)\n",
    "    \n",
    "print \"Algorithm converged\""
   ]
  },
  {
   "cell_type": "raw",
   "metadata": {
    "collapsed": true
   },
   "source": [
    "\"\"\"\n",
    "Conclusion:\n",
    "Cet algorithme est le meilleur de tous les autres algorithmes. \n",
    "Dans 2 itération on a trouvé une erreur de train qui est égale à x et une erreur de test qui est égale à y\n",
    "Comme c'est l'algorithme le plus rapide et le plus efficace, On a décidé de le généralisé sur tout le jeu de données.\n",
    "Vu qu'on a dépassé les limites de RAM pour python(on ne peut pas construire une matrice d'un taille 7636 lignes et 1264 colonnes), \n",
    "Ce qui a résoulu notre problème vite fait!\n",
    "\"\"\""
   ]
  }
 ],
 "metadata": {
  "anaconda-cloud": {},
  "kernelspec": {
   "display_name": "Python [conda root]",
   "language": "python",
   "name": "conda-root-py"
  },
  "language_info": {
   "codemirror_mode": {
    "name": "ipython",
    "version": 2
   },
   "file_extension": ".py",
   "mimetype": "text/x-python",
   "name": "python",
   "nbconvert_exporter": "python",
   "pygments_lexer": "ipython2",
   "version": "2.7.12"
  }
 },
 "nbformat": 4,
 "nbformat_minor": 1
}
